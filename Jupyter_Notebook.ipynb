{
 "cells": [
  {
   "cell_type": "markdown",
   "metadata": {},
   "source": [
    "<center>\n",
    "    <img src=\"https://cf-courses-data.s3.us.cloud-object-storage.appdomain.cloud/IBMDeveloperSkillsNetwork-DS0105EN-SkillsNetwork/labs/Module2/images/SN_web_lightmode.png\" width=\"300\" alt=\"cognitiveclass.ai logo\">\n",
    "</center>\n"
   ]
  },
  {
   "cell_type": "markdown",
   "metadata": {},
   "source": [
    "#### Add your code below following the instructions given in the course\n"
   ]
  },
  {
   "cell_type": "markdown",
   "metadata": {},
   "source": [
    "# My Jupyter Notebook on IBM Watson Studio"
   ]
  },
  {
   "cell_type": "markdown",
   "metadata": {},
   "source": [
    "**Michael Salcido**\n",
    "\n",
    "Current occupation: Massage Therapist\n",
    "Desired occupation: Data Scientist"
   ]
  },
  {
   "cell_type": "markdown",
   "metadata": {
    "tags": []
   },
   "source": [
    "*I am interested in data science because I believe I have a natural propensity to ask relevant questions. I have little experience programming, I believe data science could be a great starting point to learn two important skills*"
   ]
  },
  {
   "cell_type": "markdown",
   "metadata": {},
   "source": [
    "### This code takes and input of Diameter of a circle and angle measure to print the Arc length of a circle"
   ]
  },
  {
   "cell_type": "code",
   "execution_count": null,
   "metadata": {},
   "outputs": [],
   "source": [
    "def arclen():\n",
    "  pi = 22/7\n",
    "  diameter = input(\"Diameter of cirlce: \" )\n",
    "  angle = input(\"Angle Measure: \")\n",
    "  d = int(diameter)\n",
    "  r = d/2\n",
    "  a = int(angle)\n",
    "  arclength = (2 * pi * r) * (a / 360)\n",
    "  print (\"The arc length is: \" , arclength)\n",
    "\n",
    "arclen()"
   ]
  },
  {
   "cell_type": "markdown",
   "metadata": {},
   "source": [
    "*  Lord\n",
    "*  Help me outah\n",
    "*  We gotta organize\n",
    "\n",
    "1. No matta the weather\n",
    "1. Its a sunday\n",
    "1. Sunday\n",
    "\n",
    "__[Kunfusion](https://en.wikipedia.org/wiki/Organized_Konfusion)__"
   ]
  }
 ],
 "metadata": {
  "kernelspec": {
   "display_name": "Python",
   "language": "python",
   "name": "conda-env-python-py"
  },
  "language_info": {
   "codemirror_mode": {
    "name": "ipython",
    "version": 3
   },
   "file_extension": ".py",
   "mimetype": "text/x-python",
   "name": "python",
   "nbconvert_exporter": "python",
   "pygments_lexer": "ipython3",
   "version": "3.7.12"
  }
 },
 "nbformat": 4,
 "nbformat_minor": 4
}
